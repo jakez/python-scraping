{
 "cells": [
  {
   "cell_type": "code",
   "execution_count": 246,
   "metadata": {},
   "outputs": [],
   "source": [
    "from urllib.request import urlopen\n",
    "from bs4 import BeautifulSoup, NavigableString, Comment\n",
    "\n",
    "# AstroDienst Wiki Entry\n",
    "html = urlopen('https://www.astro.com/astro-databank/Schettino,_Francesco')\n",
    "bs = BeautifulSoup(html, \"html.parser\")\n",
    "nativeDetail = bs.find('table', {'class': 'infobox'})\n"
   ]
  },
  {
   "cell_type": "code",
   "execution_count": 210,
   "metadata": {},
   "outputs": [
    {
     "name": "stdout",
     "output_type": "stream",
     "text": [
      "Joe Lovano\n",
      "M\n",
      "['Joseph', 'Salvatore', 'Lovano']\n",
      "29 December 1952\n",
      "18:06\n",
      "Cleveland, Ohio\n",
      "BC/BR in hand\n",
      "AA\n"
     ]
    }
   ],
   "source": [
    "# Known By Name 🟨\n",
    "flippedName = nativeDetail.find(string=\"Name\").parent.parent.find_next_sibling('td').find('td').text\n",
    "nameParts = [part.strip() for part in flippedName.split(',')]\n",
    "knownByName = ' '.join(nameParts[::-1])\n",
    "print(knownByName)\n",
    "\n",
    "# Gender 🟥\n",
    "gender = nativeDetail.find(string=\"Name\").parent.parent.find_next_sibling('td').find('small').text.replace(\"Gender: \", \"\").strip()\n",
    "print(gender)\n",
    "\n",
    "# Given Names 🟨\n",
    "try:\n",
    "    givenName = nativeDetail.find(string=\"Birthname\").parent.parent.find_next_sibling('td').text.split()\n",
    "except AttributeError:\n",
    "    givenName = knownByName\n",
    "print(givenName)\n",
    "\n",
    "# Life Event 🟦 → Birthdate 🟥\n",
    "# Life Event 🟦 → Birth time 🟥\n",
    "birthDateFullText = nativeDetail.find(string=\"born on\").parent.parent.find_next_sibling('td')\n",
    "birthFull = ''.join(birthDateFullText.find_all(string=True, recursive=False)).strip()\n",
    "birthDate = birthFull.split(' at ')[0]\n",
    "birthTime = birthFull.split(' at ')[1]\n",
    "print(birthDate)\n",
    "print(birthTime)\n",
    "\n",
    "# Life Event 🟦 → Location 🟦 → Name 🟨\n",
    "birthLocationFullText = nativeDetail.find(string=\"Place\").parent.parent.find_next_sibling('td')\n",
    "birthLocation = ''.join(birthLocationFullText.find_all(string=True, recursive=False)).strip().rstrip(',')\n",
    "print(birthLocation)\n",
    "\n",
    "# Life Event 🟦 (Type 🟥 = Birth) → Rodden Rating 🟦 → Data Source 🟨\n",
    "dataSource = nativeDetail.find(string=\"Data source\").parent.parent.parent.find_next_sibling('td').table.td.text\n",
    "print(dataSource)\n",
    "\n",
    "# Life Event 🟦 (Type 🟥 = Birth) → Rodden Rating 🟦 → Source Rating 🟥\n",
    "sourceRoddenRating = nativeDetail.find(string=\"Data source\").parent.parent.parent.find_next_sibling('td').table.find(string=\"Rodden Rating\").parent.parent.parent.b.text\n",
    "print(sourceRoddenRating)"
   ]
  },
  {
   "cell_type": "code",
   "execution_count": 214,
   "metadata": {},
   "outputs": [
    {
     "name": "stdout",
     "output_type": "stream",
     "text": [
      "Biography\n",
      "[<p>American jazz musician, saxophone player, 1st child. One of the most mature talents operating in jazz.\n",
      "</p>]\n",
      "Relationships\n",
      "[<ul><li>associate relationship with <a href=\"/astro-databank/Texier,_Henri\" title=\"Texier, Henri\">Texier, Henri</a> (born 27 January 1945)</li></ul>]\n",
      "Source Notes\n",
      "[<p>Steinbrecher collection: Steinbrecher has birth certificate in hand\n",
      "</p>]\n",
      "Categories\n",
      "[<ul><li>Vocation : Entertain/Music : Instrumentalist (Saxophone player)</li></ul>]\n"
     ]
    }
   ],
   "source": [
    "# Get the sections of the AstroDienst Biography\n",
    "astroDienstSections = bs.find('div', {'id': 'mw-content-text'}).find_all('h2')\n",
    "for section in astroDienstSections:\n",
    "    sectionType = section.get_text()\n",
    "    sectionValue = []\n",
    "    for sibling in section.next_siblings:\n",
    "        # if it's just an empty string, like the newline character\n",
    "        if isinstance(sibling, NavigableString) and sibling.strip() == '':\n",
    "            continue\n",
    "        # if it's a comment, which really is diagnostic information\n",
    "        if isinstance(sibling, Comment):\n",
    "            continue\n",
    "        # if we have the native's wikimedia bio, we skip that\n",
    "        if sibling.find('a',{'class':'extiw'}):\n",
    "            continue\n",
    "        # if we reach another headline 2, we have us a new section\n",
    "        if sibling.name == 'h2':\n",
    "            break\n",
    "        sectionValue.append(sibling)\n",
    "    print(sectionType)\n",
    "    print(sectionValue)\n"
   ]
  },
  {
   "cell_type": "code",
   "execution_count": 215,
   "metadata": {},
   "outputs": [
    {
     "name": "stdout",
     "output_type": "stream",
     "text": [
      "http://en.wikipedia.org/wiki/Joe_Lovano\n"
     ]
    }
   ],
   "source": [
    "# Wikimedia link to supplement\n",
    "try: \n",
    "    wikimediaLink = bs.find('a', {'class': 'extiw'}).attrs['href']\n",
    "except AttributeError:\n",
    "    wikimediaLink = ''\n",
    "print(wikimediaLink)"
   ]
  },
  {
   "cell_type": "markdown",
   "metadata": {},
   "source": [
    "## AstroDatabank image and image attribution\n",
    "\n",
    "Find all of the images (`a.image`) on the page and grab the URLs for further exploration."
   ]
  },
  {
   "cell_type": "code",
   "execution_count": 247,
   "metadata": {},
   "outputs": [
    {
     "name": "stdout",
     "output_type": "stream",
     "text": [
      "[]\n"
     ]
    }
   ],
   "source": [
    "# Get the image links\n",
    "try:\n",
    "    databankImages = bs.find_all('a',{'class': 'image'})\n",
    "except AttributeError:\n",
    "    databankImages = []\n",
    "\n",
    "imgURLs = []\n",
    "for image in databankImages:\n",
    "    imgURLs.append(\"https://www.astro.com\" + image.attrs['href'])\n",
    "\n",
    "print(imgURLs)\n"
   ]
  },
  {
   "cell_type": "code",
   "execution_count": 240,
   "metadata": {},
   "outputs": [],
   "source": [
    "# Get the image attribution\n",
    "\n"
   ]
  }
 ],
 "metadata": {
  "kernelspec": {
   "display_name": "Python 3 (ipykernel)",
   "language": "python",
   "name": "python3"
  },
  "language_info": {
   "codemirror_mode": {
    "name": "ipython",
    "version": 3
   },
   "file_extension": ".py",
   "mimetype": "text/x-python",
   "name": "python",
   "nbconvert_exporter": "python",
   "pygments_lexer": "ipython3",
   "version": "3.11.5"
  }
 },
 "nbformat": 4,
 "nbformat_minor": 4
}
