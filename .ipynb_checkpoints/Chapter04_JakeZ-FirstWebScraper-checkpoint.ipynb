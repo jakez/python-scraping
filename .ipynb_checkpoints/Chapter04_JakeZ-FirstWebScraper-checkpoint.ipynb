{
 "cells": [
  {
   "cell_type": "code",
   "execution_count": 4,
   "id": "b4021fa8-0b2e-4858-b6d9-909cc6085d16",
   "metadata": {},
   "outputs": [
    {
     "name": "stdout",
     "output_type": "stream",
     "text": [
      "<h2 style=\"float: left;\">Ewan McGregor <span>- Birth Chart</span>\n",
      "<div class=\"cl p2\"></div>\n",
      "<span style=\"font-size: 0.75em;\">(Ewan Gordon McGregor)</span>\n",
      "</h2>\n",
      "<span>- Birth Chart</span>\n"
     ]
    }
   ],
   "source": [
    "from urllib.request import urlopen\n",
    "from urllib.error import HTTPError\n",
    "from bs4 import BeautifulSoup\n",
    "\n",
    "def getCelebrityName(url):\n",
    "    try:\n",
    "        html = urlopen(url)\n",
    "    except HTTPError as e:\n",
    "        return None\n",
    "    try:\n",
    "        bsObj = BeautifulSoup(html.read(), \"lxml\")\n",
    "        title = bsObj.body.h2\n",
    "    except AttributeError as e:\n",
    "        return None\n",
    "    return title\n",
    "\n",
    "def getCelebrityFullName(url):\n",
    "    try:\n",
    "        html = urlopen(url)\n",
    "    except HTTPError as e:\n",
    "        return None\n",
    "    try:\n",
    "        bsObj = BeautifulSoup(html.read(), \"lxml\")\n",
    "        title = bsObj.body.h2.span.span\n",
    "    except AttributeError as e:\n",
    "        return None\n",
    "    return title\n",
    "\n",
    "url = \"https://www.astro-seek.com/birth-chart/ewan-mcgregor-horoscope\"\n",
    "\n",
    "title = getCelebrityName(url)\n",
    "if title == None:\n",
    "    print(\"Name could not be found\")\n",
    "else:\n",
    "    print(title)\n",
    "\n",
    "title = getCelebrityFullName(url)\n",
    "if title == None:\n",
    "    print(\"Full Name could not be found\")\n",
    "else:\n",
    "    print(title)"
   ]
  },
  {
   "cell_type": "code",
   "execution_count": null,
   "id": "0569b185-3ea7-4d14-8a49-f881b7869073",
   "metadata": {},
   "outputs": [],
   "source": []
  }
 ],
 "metadata": {
  "kernelspec": {
   "display_name": "Python 3 (ipykernel)",
   "language": "python",
   "name": "python3"
  },
  "language_info": {
   "codemirror_mode": {
    "name": "ipython",
    "version": 3
   },
   "file_extension": ".py",
   "mimetype": "text/x-python",
   "name": "python",
   "nbconvert_exporter": "python",
   "pygments_lexer": "ipython3",
   "version": "3.11.5"
  }
 },
 "nbformat": 4,
 "nbformat_minor": 5
}
